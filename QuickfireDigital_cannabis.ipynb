{
  "nbformat": 4,
  "nbformat_minor": 0,
  "metadata": {
    "colab": {
      "name": "QuickfireDigital_cannabis.ipynb",
      "provenance": [],
      "authorship_tag": "ABX9TyNDwtWXi+IMQdGia9zDtdSP",
      "include_colab_link": true
    },
    "kernelspec": {
      "name": "python3",
      "display_name": "Python 3"
    },
    "language_info": {
      "name": "python"
    }
  },
  "cells": [
    {
      "cell_type": "markdown",
      "metadata": {
        "id": "view-in-github",
        "colab_type": "text"
      },
      "source": [
        "<a href=\"https://colab.research.google.com/github/PriyathamVarma/LendingLoan/blob/main/QuickfireDigital_cannabis.ipynb\" target=\"_parent\"><img src=\"https://colab.research.google.com/assets/colab-badge.svg\" alt=\"Open In Colab\"/></a>"
      ]
    },
    {
      "cell_type": "markdown",
      "metadata": {
        "id": "_LZiPkBx0ZRE"
      },
      "source": [
        "# This task is for quickfire digital.\n",
        "# The task involves collecting URLS from \"https://cannabisseedsforsale.com/brands\"\n",
        "# After collecting the data, the links are used in for loop to scrape the required content"
      ]
    },
    {
      "cell_type": "code",
      "metadata": {
        "id": "uUIitcEE0cpn"
      },
      "source": [
        "#Extraction\n",
        "#Import libraries\n",
        "import pandas as pd\n",
        "import requests\n",
        "from bs4 import BeautifulSoup\n",
        "# Get the urls csv format\n",
        "path = \"https://raw.githubusercontent.com/PriyathamVarma/links/main/main.csv\"\n",
        "# Save in a data frame\n",
        "data_frame = pd.read_csv(path)\n",
        "# Dataset is now stored in a Pandas Dataframe"
      ],
      "execution_count": 4,
      "outputs": []
    },
    {
      "cell_type": "code",
      "metadata": {
        "colab": {
          "base_uri": "https://localhost:8080/",
          "height": 419
        },
        "id": "ztUZPa2Y0iA4",
        "outputId": "1ab7c863-8728-41f1-ba1d-bb9d1ec1045b"
      },
      "source": [
        "# Representing the data in table format\n",
        "data_frame"
      ],
      "execution_count": 9,
      "outputs": [
        {
          "output_type": "execute_result",
          "data": {
            "text/html": [
              "<div>\n",
              "<style scoped>\n",
              "    .dataframe tbody tr th:only-of-type {\n",
              "        vertical-align: middle;\n",
              "    }\n",
              "\n",
              "    .dataframe tbody tr th {\n",
              "        vertical-align: top;\n",
              "    }\n",
              "\n",
              "    .dataframe thead th {\n",
              "        text-align: right;\n",
              "    }\n",
              "</style>\n",
              "<table border=\"1\" class=\"dataframe\">\n",
              "  <thead>\n",
              "    <tr style=\"text-align: right;\">\n",
              "      <th></th>\n",
              "      <th>Index</th>\n",
              "    </tr>\n",
              "  </thead>\n",
              "  <tbody>\n",
              "    <tr>\n",
              "      <th>0</th>\n",
              "      <td>https://cannabisseedsforsale.com/brands/710-ge...</td>\n",
              "    </tr>\n",
              "    <tr>\n",
              "      <th>1</th>\n",
              "      <td>https://cannabisseedsforsale.com/brands/ace-seeds</td>\n",
              "    </tr>\n",
              "    <tr>\n",
              "      <th>2</th>\n",
              "      <td>https://cannabisseedsforsale.com/brands/advanc...</td>\n",
              "    </tr>\n",
              "    <tr>\n",
              "      <th>3</th>\n",
              "      <td>https://cannabisseedsforsale.com/brands/allsta...</td>\n",
              "    </tr>\n",
              "    <tr>\n",
              "      <th>4</th>\n",
              "      <td>https://cannabisseedsforsale.com/brands/alphak...</td>\n",
              "    </tr>\n",
              "    <tr>\n",
              "      <th>...</th>\n",
              "      <td>...</td>\n",
              "    </tr>\n",
              "    <tr>\n",
              "      <th>140</th>\n",
              "      <td>https://cannabisseedsforsale.com/brands/vip-seeds</td>\n",
              "    </tr>\n",
              "    <tr>\n",
              "      <th>141</th>\n",
              "      <td>https://cannabisseedsforsale.com/brands/vision...</td>\n",
              "    </tr>\n",
              "    <tr>\n",
              "      <th>142</th>\n",
              "      <td>https://cannabisseedsforsale.com/brands/white-...</td>\n",
              "    </tr>\n",
              "    <tr>\n",
              "      <th>143</th>\n",
              "      <td>https://cannabisseedsforsale.com/brands/world-...</td>\n",
              "    </tr>\n",
              "    <tr>\n",
              "      <th>144</th>\n",
              "      <td>https://cannabisseedsforsale.com/brands/zambez...</td>\n",
              "    </tr>\n",
              "  </tbody>\n",
              "</table>\n",
              "<p>145 rows × 1 columns</p>\n",
              "</div>"
            ],
            "text/plain": [
              "                                                 Index\n",
              "0    https://cannabisseedsforsale.com/brands/710-ge...\n",
              "1    https://cannabisseedsforsale.com/brands/ace-seeds\n",
              "2    https://cannabisseedsforsale.com/brands/advanc...\n",
              "3    https://cannabisseedsforsale.com/brands/allsta...\n",
              "4    https://cannabisseedsforsale.com/brands/alphak...\n",
              "..                                                 ...\n",
              "140  https://cannabisseedsforsale.com/brands/vip-seeds\n",
              "141  https://cannabisseedsforsale.com/brands/vision...\n",
              "142  https://cannabisseedsforsale.com/brands/white-...\n",
              "143  https://cannabisseedsforsale.com/brands/world-...\n",
              "144  https://cannabisseedsforsale.com/brands/zambez...\n",
              "\n",
              "[145 rows x 1 columns]"
            ]
          },
          "metadata": {
            "tags": []
          },
          "execution_count": 9
        }
      ]
    },
    {
      "cell_type": "code",
      "metadata": {
        "colab": {
          "base_uri": "https://localhost:8080/"
        },
        "id": "pE4OZXQJAjoQ",
        "outputId": "3248b334-718e-4b8c-d0e9-553ed658da72"
      },
      "source": [
        "newList = [] # collect all the content and save it in this list\n",
        "# Creating a for loop to get the info\n",
        "for i in range(0,len(data_frame)):\n",
        "\n",
        "    urlreq = data_frame.iloc[i].Index       # Getting the urls only\n",
        "    pagereq = requests.get(urlreq)          # Getting requests\n",
        "    soupreq = BeautifulSoup(pagereq.content, \"html.parser\")\n",
        "                                            # Getting beautiful soup to get the info from html\n",
        "    \n",
        "    job_elementsreq= soupreq.find(\"div\", class_=\"brand-text-preview\")\n",
        "                                            # Getting the div element with class brand-text-preview \n",
        "\n",
        "    # Getting the elements required and excepting AttributeError if content doesnt exist\n",
        "    try:\n",
        "      title_elementreq = job_elementsreq.find(\"p\")\n",
        "      res = title_elementreq.text\n",
        "      #print(i,\":\",title_elementreq.text)\n",
        "\n",
        "    except  AttributeError:\n",
        "      res = \"None\"\n",
        "      #print(i,\" : HAS NO CONTENT\") \n",
        "\n",
        "    newList.append(res) # Add all the items into the list\n",
        "      \n",
        "newList"
      ],
      "execution_count": 13,
      "outputs": [
        {
          "output_type": "execute_result",
          "data": {
            "text/plain": [
              "['710 Genetics is the best new\\xa0BOUTIQUE SEED BANK\\xa0who supply both RARE\\xa0and POPULAR strains from around the world. The 710\\xa0Genetics breeder team\\xa0have over 60 years of combined experience and produce some of the best genetics from the US, UK &\\xa0EU.\\xa0',\n",
              " 'ACE Seeds are a group of Spanish breeders who are\\xa0dedicated to the preservation and study of Cannabis. We strive to\\xa0improve the genetic diversity by experimenting with an array of new genetics\\xa0from all around the world.',\n",
              " 'Advanced Seeds produces all its cannabis seeds using\\xa0organic farming methods, only natural fertilisers and insecticides are employed. The production has been carried out under strict controls in isolated rooms to ensure the identity of each variety. Advanced Seeds\\xa0uses a completely safe method to obtain feminised seeds without any kind of genetic manipulation.',\n",
              " 'Allstar Genetics are a small, independent group of cannabis enthusiasts who work with medical patients\\xa0& growers to test the benefits of different genetics. The Allstar Genetics team pride themselves on\\xa0producing small batches to ensure that only fresh seeds are sold and that the rate of germination is really high.\\xa0Whilst Allstar Genetics are currently testing and producing dozens of different strains, they only current offer 7, which are all top-shelf quality seeds. You will notice their strains are stocked in all the coffee shops in Amsterdam.\\xa0',\n",
              " 'Alphakronik Genes are one of the top medical grade cannabis seeds providers in the world. The produce real genetics the natural way - with a female and a male plant. All plants are grown in soil and grown with organic based nutrients. They never cut corners to make a quick buck. Quality genetics are produced with huge amounts of love, time, and dedication.',\n",
              " \"The Apothecary Genetics company started growing in the early 90\\\\'s and soon became one of the leading and most renowned\\xa0breeders.\\xa0Originally from Northern California, these pioneers\\xa0created\\xa0Grape Ape (aka GDP), Old School Jams, KAIA Kush, 3-D, and Sour Grapes!! In 2009, they moved to Southern California and continue to produce the amazing.\\xa0\",\n",
              " 'Atomik Seeds is a project that started in 2006. What started out as the search for a pain relief plant ended up becoming a hobby, obtaining the best genetics, crossbreeding in a quest for new sensations…\\xa0All this knowledge and the market itself drew this group of cultivators to embark on a large-scale project upon seeing the results they were obtaining. In a short period of time, they professionalised their activity and carried out some exceptional work, preparing a cultivation with unique and top-quality genetics, focusing all their attention on achieving the best possible feminised strain.Despite not being well-known, Atomik Seeds can boast of being one of the first seed banks in Spain to develop feminised cannabis seeds.Atomik Seeds may be new to cannabis websites, fora, catalogues, magazines and in the best online and offline growshops, but they have been working professionally and efficiently behind the scenes for almost 10 years, and that is evident in the quality of the seeds.',\n",
              " 'Auto Seeds specialize in the finest quality auto-flowering seeds. The breeder team has dedicated 3 years to research and development in order to provide the best feminized auto flowering seed genetics.\\xa0Auto seeds will flower irrespective of light cycle making multiple harvests in one outdoor season possible whilst also providing ultimate control for the indoor gardener.\\xa0Their range combines classic and legendary cup winning strains to create a stabilised and all feminized auto-flowering seeds collection with a wide range of traits and tastes.\\xa0',\n",
              " \"The team of experienced breeders at Barney’s Farm has been gathering landrace genetics from around the world since the early 1980’s. This enables Barney’s Farm Research Lab to create the very best and rarest marijuana strains. Barney’s Farm has won many international prizes for the high quality and stability of its products and is a recognised world leader in the production of top quality seeds. This passion for our chosen life underlines our commitment to provide our customers with the best genetics possible. We continue our search for rare genetics and we are devoted to the creation of new and exciting marijuana strains.Barney\\\\'s Farm and CBD Crew are working together to create new strains of cannabis that we hope will gain further acceptance of cannabis in the medical community. Our mission is to increase levels of CBD \\xa0in our best varieties to enhance pain relieving properties. By increasing the CBD and lowering the THC levels, our strains allow our patients to be heavily medicated, whilst sharp and alert.\\xa0\",\n",
              " 'The BC Bud Depot produces the worlds finest marijuana seeds. We take pride in developing award-winning cannabis seeds and offering the most comprehensive marijuana seed bank worldwide. The BC Bud Depot has been developing the best marijuana seeds for a decade and every strain we carry has earned a place in our lineup of legendary breeds.',\n",
              " \"The\\xa0Big Buddha\\xa0Crew\\xa0cultivate the most exquisite selection of seeds, their\\xa0old-school strains remind us of the\\xa0cannabis smoked in the 80\\\\'s when the first hybrids were developed.\\xa0Big Buddha cultivate\\xa0top quality genetics,\\xa0where\\xa0you will\\xa0grow a great\\xa0plant, with distinguishable qualities, and a unique gene pool history.\\xa0\",\n",
              " 'We are proud to announce the welcome arrival of Big Head Seeds. In 1990 after a life altering experience one of the\\xa0Big Head founders\\xa0set off around the globe with a mission to discover ceremonial plants and the people who understood their individual properties.\\xa012 years later (2002) he\\xa0facilitated a meeting\\xa0at Burning Man\\xa0between\\xa0two expert plant breeders, one reclusive Californian genius and flying Dutchman (literally).\\xa0The result: an eclectic and passionate crew of experienced geniuses that know marijuana better than you know yourself.\\xa0',\n",
              " \"Back in the early 2000\\\\'s two growers from the UK moved to Spain to perfect their breeding and growing\\xa0techniques. These two guys already had plenty of experience from their teenage years, when they brought back classic cannabis strains from their trips to Holland. In Spain the perfected the art of growing and breeding new varieties with the focus on creating\\xa0super vast growing times. You can now find these specialties\\xa0under the name of\\xa0Black Skull Seeds.They\\\\'ve been working hard for the past 10 years an created a selection of 7 FEMINIZED and 6 AUTO strains that are clearly some of the best varieties you can find on the market these days!All their photoperiod strains finish in 7-8 weeks, while still producing a very competitive yield, incredible taste and potency.\\xa0\",\n",
              " 'Blimburn Seeds are well-respected breeders in the cannabis industry, who are known for\\xa0their clear focus on crafting high quality\\xa0feminized marijuana seeds. Their experience comes from 16+ years\\xa0of study,\\xa0cultivation and breeding.\\xa0Blimburn Seeds focus on three key areas - taste, production, and stability. Every single strain is extremely powerful, exceptionally productive and off-the-hook tasty! Blimburn never re-package seeds, and only distribute stock that has been packaged in the past two months to ensure their seeds are fresh and sure to yield spectacular results.\\xa0',\n",
              " 'Bomb Seeds has developed a new and unique range of cannabis seeds by carefully selecting and improving classic strains and crossing them with our potent bomb seeds genetics to maximise the most desirable traits - quality, quantity, strength, speed & vigour. The result is a high quality collection of some of the most powerful genetics available with each and every strain in the range maximised for high yield, high THC, fast finishing and fantastic growth potential. The Bomb Seeds range aims to include something for everyone from indicas to sativas, autoflowering & medical varieties as well as something for the connoisseur. Bomb Seeds assures optimum freshness and quality and all seeds are stored in a temperature and humidity controlled environment. All the Bomb Seeds range is available in feminised and selected strains in regular. See our distributors page for availability.',\n",
              " 'Breaking Buds from Alicante in Spain have spent years selecting and studying cannabis. The Breaking Buds crew are a group of breeders who are very interested in rescuing old strains of cannabis and with each harvest improvements in production and effect have been achieved. Without leaving the more modern strains aside, Breaking Buds like to continually evolve with their genetics, and so are committed to continuous research and genetic improvement of their parental genetics.\\xa0',\n",
              " \"British Columbia cannabis seeds, also known as BC Seeds,\\xa0are from an established brand first formed in the early 90\\\\'s. Since formation British Columbia have gone from strength to strength producing stable f1 hybrids.\",\n",
              " 'Buddha seeds are the Spanish\\xa0pioneers of auto flowering cannabis seeds.\\xa0',\n",
              " \"On December 17th. 1975, Henk de Vries established the first cannabis coffeeshop in the world. He later branded his coffeeshop in the shape of his four legged friend Joris, The Bulldog. From that day The Bulldog has expanded into an empire of 5 coffeeshops, cafes & bars, 2 hotels, smoke accessories, a merchandise line, an energy drink and more recently a cannabis seed company offering some of the finest high quality seed genetics available. The Bulldog brand has become one of most, if not the most successful recognised cannabis related companys in the world and will continue to be inspired by what the future has in store. 34 years after establishing the very first cannabis coffeeshop in the world, The Bulldog Amsterdam decided to team up with some of the world\\\\'s leading cannabis seed breeders to establish The Bulldog Seeds. The Bulldog Seed Company now offers a selection of 10 of the finest feminised marijuana seed strains for a very reasonable price. The Bulldog Seeds has spent more than 5 years collecting genetics and invested in research & development to make sure that only the highest quality cannabis strains are released in their 2010 seed catalogue.\",\n",
              " 'The breeders at\\xa0Cali Connection\\xa0are on a mission: to supply the world with Cali’s best cannabis seeds\\xa0genetics. The Cali Connection is a seed company with one intention, to supply the world with Cali’s best genetics in seed form. The Connection is the umbrella for some of Cali’s best breeders. These breeders from SoCal to NorCal have obtained and have been growing Cali’s finest for years and look forward to providing their favorites with the rest of the world. The possibilities are endless when you have the best of the best to work with. \\\\\"True genetics is our mission, our meaning of true genetics is as followed\\\\\" -\\xa0Cali Connection.',\n",
              " 'Calyx focus on providing the best taste with a mouth-watering selection of a strains that contain strong concentrations levels of THC. Their expert team are passionately dedicated to producing top quality genetics hybrids and these fresh seeds are sure to yield spectacular results.',\n",
              " 'Canadian Bred Seeds cultivate high quality strains through hard work and research. They are well-known for\\xa0a number of world-famous seeds, including\\xa0Lethal Purple, Pure Mighty Mite, Early Girl, Bunker Bud, and Fast Girl.',\n",
              " 'Twenty years of travelling the world in search of the grail, from the mountains of Jamaica and Colombia in the New World to Pakistan, India and Thailand. Meticulous selections from more than one hundred varieties and careful progeny testings have culminated in magnificent examples that bring us the gamut of the sublime.The mayority of the varieties we carry are from original landrace stock, cultivated in their respective lands for generations and brought back by ourselves and our friends who have travelled to those far away places in search of cannabis seeds with the purpose of safeguarding them for posterity.',\n",
              " \"CBD Crew was formed in the summer of 2009 and have since strived to achieve\\xa0an optimum ratio of 1:1 THC:CBD, for their entire collection of cannabis seeds. And guess what? They\\\\'ve achieved that!\\xa0The reason for focussing their\\xa0breeding efforts on CBD-to-THC ratio, is because of the profoundly positive medical effects these plants can provide to millions of people around the world that suffer from\\xa0convulsion, inflammation, anxiety, and nausea, and\\xa0schizophrenia.\",\n",
              " 'CBD Seeds is a crew of experienced people in this sector. This seed bank was created to offer classic varieties of cannabis seeds and create a classical genetic line - they get to work with first gene pool, which were legendary already. The next step after classic line was analyzing situation in Europe and they found out lack of autoflowering seeds what made them to create all of their seeds in automatic versions. Return to the origins and opportunity to enjoy the pure and ancient with original taste, smell and mythical effect as a additional to those you already have ( Widow, Lavender, Yumbolt, Critical and first Northern Auto : Auto White ), is what the CBD is providing to their costumers. High CBD level makes their seeds perfect choice for a medical use.',\n",
              " 'Ceres Cannabis Seeds from Holland are a small but perfectly formed cannabis seed bank.  Having won numerous awards for strains such as Ceres Purple Feminized Seeds, Ceres Fruity Thai, Ceres Skunk and Ceres White Panther, Ceres are going from strength to strength in the medical marijuana seeds industry and offer excellent strains at good prices.',\n",
              " \"If you want a mix of different strains then you've come to the right place\",\n",
              " 'Cannabis Seeds by Connoisseur Genetics Seedbank - This seed bank has taken marijuana seed strains from various award winning lines and crossed them to bring you only the best of the best, pot seeds for true connoisseurs.This seedbank based in the heart of Amsterdam, Holland, produces some of the finest marijuana seeds and strains available.',\n",
              " \"Cream of the Crop\\xa0takes the best genes and characteristics from different strain varieties and\\xa0cross-breeds them to create beautiful, smelly mongrels of nature. Their goal was to offer the finest Cannabis available on the market today, the absolute cream of the crop and sell them at an affordable price so that everyone may enjoy Earth\\\\'s most sacred plant. Cream of the Crop\\\\'s research was conducted and compiled over the last 5 years and they now feel they have finally reached their goal.\",\n",
              " 'None',\n",
              " \"Crockett Family Farms\\xa0is an old friend of\\xa0DNA Genetics and it\\\\'s pretty easy to see where the guys found some common ground. The breeding of world class marijuana. \\xa0Crockett Family Farms is a new range of elite quality seeds direct from Crockett\\\\'s garden.\\xa0Crockett\\\\'s garden has been home to the strain that has now become known as Tangie for over ten years. \\xa0It was Crockett who first presented the DNA guys with the cut that has gone on to win virtually every competition that it has been entered in. \\xa0Crockett\\\\'s own cut of Tangie actually beat DNA into 2nd place at last year\\\\'s Cannabis Cup in Amsterdam - the only time we can remember a single strain finishing first and second in the same category - Best Sativa.\",\n",
              " 'Dank Genetics is a crew of like minded cannabis lovers from around the globe all with one intention - to create nothing but dank!!! If you want sticky dank then look no further, you can select your own holy grail as they offer hot dank collaborations with some of the worlds leading breeders.',\n",
              " 'For over two decades, Dankonomics Genetics have been growing and breeding cannabis strains with unrivaled\\xa0passion.Dankonomics were born in the prohibition years, back before good herb was regularly available. The founder was surprised how often he was short changed and denied good quality seeds, so began his quest by purchasing seeds from Holland and started to create new lines. After much trial error Dankonomics was created.Dankonomics have now been growing their own strains for over 20 years and thoroughly test all product to ensure good vigour and easy\\xa0growth by only using elite clones, and elite seed lines, to create even better hybrids.All of the seeds in Dankonomics collection are created in organic recycled soil, with no harsh chemicals,\\xa0insecticidesor fungicides. All seeds are over-matured, and cured to try to ensure longevity, and vigour.While there are a number of strains that have grown in popularity since the birth of Dankonomics, one in particular has stood out.\\xa0Dankonomics Genetics are constantly in the laboratory trying and testing new strains and lines as well as working on stabilizing existing lines to ensure many years of high quality cannabis genetics.If you want quality yields, ease of growth, low mould and bug issues, with no hype driven market gimmicks, look no further than\\xa0Dankonomics Genetics.',\n",
              " 'De Sjamaan Seeds banks have one numerous Cannabis Cups for their incredible assortment of autoflowering and feminized seeds',\n",
              " 'Delicious is a successful group of merry\\xa0cannabis breeders, who specialise in the cultivation of top-range cannabis strains.\\xa0Mission Statement: \\\\\"We put all our efforts to provide pleasurable and global experiences… the world is full of beauty and our senses are the gateway that allows us to cross it. The quality of our image is a reflection of our commitment toward this world, and the best example of it is our seedbank which, supported by the best breeders, has selected the best varieties for the enjoy of the most exclusive growers.\\\\\"',\n",
              " \"Delta-9 Labs came to exist after 10\\xa0years of hands on experience working, documenting and observing the cannabis seed industry. In the late 90\\\\'s seed companies were sprouting as fast as the seeds themselves, so our goal was to create an earth friendly business while maintaining consistency and value for medical cannabis patients seeking the finest genetics. We should know what heals since we are registered medical marijauna patients ourselves and personally breed as well as test our varieties first hand. We traveled the world seeking new varieties to work into our breeding program. At Delta-9 Labs we constantly network and communicate with some of the world\\\\'s top breeders and strive to set the highest standards in our labs. Delta-9 Labs breeding and seed production regimen follows strict organic guidelines and tests the viability of their seeds on a weekly basis.\",\n",
              " 'The Devil’s Harvest Seed Company was born of a simple desire: to craft and make readily available new indica hybrids of Cannabis that would give smokers a “kick in the head.” Tasty, heavy-hitting, high-yielding strains are the general goal of this pair of Amsterdam breeders, after years of smoking and sampling a large variety of the best products that the city’s famous coffeeshops had to offer. While Amsterdam’s smoke dens certainly provide quality products, the Devil’s Harvest Seed Company lads decided that the time had come to create some really potent stuff: the best flavours, highest yields and strongest punch possible, with the shortest viable flowering period. Lovingly combining solid old-school genetics with newer strains results in some of the most unique and sought-after strains in the industry. Within the following pages is an introduction to some of the freshest and most exciting varieties that are currently taking the coffeeshops of Amsterdam by storm. Whether it’s the Dazy Jones for a heavy knockout effect, John Doe for something completely new or the super tasty Strawberry Diesel, you won’t want to be the last in your neighbourhood with a “devilish” secret at home.\\xa0',\n",
              " \"Dinafem\\\\'s extensive range of carefully bred feminized marijuana seeds are of the highest quality, and are favored as the seeds of first choice by many enthusiasts. Dinafem\\\\'s cannabis seeds are assured as being always fresh. The seeds that arrive at your house have been kept in controlled and optimal environmental conditions, taking care to maintain ideal humidity and temperature, thus preventing problems and increasing the germination rates.\",\n",
              " 'DNA Genetics was founded in Amsterdam in 2004 and is known for the creation of many strains of\\xa0medicinal cannabis seeds. In just over 8 years, DNA won over 50 awards from prestigious cannabis events in several countries.',\n",
              " 'The DNA Genetics GYO Collection is a new range of premium quality marijuana seeds from arguably the MOST POPULAR SEED COMPANY IN THE WORLD.Connoisseur marijuana seed collectors have been eagerly waiting for the release of these special new strains, and here they are:With a mix of sativa and indica varieties with some remarkable flavours and aromas, the GYO collection has something for everyone.',\n",
              " 'Team Krippling is constantly fine tuning and seeking SUPER STRONG genetics to present high quality strains for the planet. After much more research, time and energy has been lovingly and happily spent by all at Team Krippling, their catalogue should only get bigger and better...',\n",
              " \"Our seeds are 99.9 % feminized seeds!Dr Underground\\xa0makes their seeds in hydroponic systems to control the different parameters. All the\\xa0strains were also\\xa0tested in different grow systems and they\\\\'re compatible in all grow systems.\",\n",
              " 'After studying marijuana genetics for NEARLY A DECADE, Dreadybob opened a Seedbank to ensure the preservation of his own genetics: DREADY SEEDSLimiting themselves to 5 hybrids, Dready Seeds prefer to focus on quality rather than quantity. These 5 hybrids (Auto Jack, Dready Berry, Dready Cheese, Dready Skunk and White Jack) all cover one of the main types of cannabis\\xa0(Sativa, Indica, Mixed and Ruderalis).We offer you 4 of Dready Seeds well selected strains!',\n",
              " 'Dutch Passion has been developing, upgrading, producing and selling Cannabis Seeds SINCE\\xa01987, making it one of the first Dutch Seed Companies. Through the years they have gained a lot of experience in developing, producing, and marketing premium quality Cannabis Seeds. In 1998 Dutch Passion made a MAJOR BREAKTHROUGH\\xa0in Cannabis Seed Technology, through the development of \\\\\"Feminized\\\\\" Cannabis Seeds. Under the right growing conditions these \\\\\"Feminized Seeds\\\\\" give rise to only female plants. In this catalog we offer you most of our Cannabis varieties, \\\\\"Regular\\\\\" as well as \\\\\"Feminized\\\\\"',\n",
              " 'Grow the Difference - Know the Difference!Elemental Seeds is a partnership of renowned breeders, and is home of the multi award-winning strain, The True OG\\xa0(27.6%\\xa0THC).The breeders and growers at Elemental Seeds are credited with countless High Times Medical Cannabis Cup wins. Winner High CBD.Elemental Seeds\\xa0is heating things up in North California with their\\xa0Cup-Winning genetics\\xa0& crowd-pleasing new blends.\\xa0',\n",
              " \"Welcome to Emerald Triangle! At Emerald Triangle you can find over 20 years of experience of breeding. During these years, Emerald Triangle\\xa0have invested a lot of time and energy collecting quality genetics from all over the globe. They have used all of this collective knowledge and experience to create the perfect seeds for you. Emerald Triangle\\\\'s\\xa0Vision...\\xa0 Their vision for the future is to carry the torch for our generation, to improve and preserve the quality of genetics, so that in the future people will have the same chance to access the healing and medicinal properties that their amazing plants have to offer. Tried and tested... They are focused on providing meticulous care to our strains and always ensure genetic stability. this happens\\xa0through their\\xa0regular breeding. We guarantee that this maintains long-term stability so that you end up with the perfect seed. All of the Emerald Triangle\\xa0seeds are tried and tested to ensure perfection. Emerald Triangle specializes in many varieties of seeds consisting of both Regular which are bred in California and Feminised which are bred in Europe.\",\n",
              " 'Eva Seeds is a Spanish cannabis seeds breeder who has perfected the feminizing technique. Eva has some very good European cannabis genetics and only produces a Feminized range.',\n",
              " 'None',\n",
              " 'Expert Seeds is a venture connecting breeders from various European countries. Therefore a lot of diverse practices come together within one establishment, mixed with love and passion for cannabis. Collectively, Expert Seeds have been growing and breeding for many decades. They focus and specialise in selective breeding of the world’s most celebrated strains.\\xa0',\n",
              " 'Fast Buds\\xa0are a team of professionals from Los Angeles, state of California. Although all of their breeding, years of fruitful work and close cooperation with the best growers of States forever belongs to California, they\\xa0decided to risk a step over the big lake to\\xa0create their own seed bank on the territory of Europe. The company\\xa0Fast Buds\\xa0was founded in 2010 in Spain. Their primary goal - to convey to the people the most fashionable and trendy autoflowering genetics of California in the form of cannabis seeds and introduce it to all growers of the planet.',\n",
              " 'Each day, more and more people are experiencing the benefits of reliable Female Seeds from quality strains. And still these seeds can be offered for a reasonable price, making them available to everyone. ',\n",
              " 'With 15 years of underground research & development behind them, Feminized Seeds have finally brought their astonishing genetics out into the world for all to marvel at.All of their seeds are of the HIGHEST quality and not mass produced with genetics bred in Spain. ',\n",
              " 'Flash Seeds are the new quality seed bank and one in which you can trust. The Flash cannabis seed breeders are exclusively professional with several years of experience in AUTO FLOWERING\\xa0cannabis seeds. Flash Automatic Seeds are proud to provide our world with novel new SUPER AUTO strains.This breeder is one of the\\xa0most recognised\\xa0in the world of cannabis forums, the public know him for his work and his success.',\n",
              " 'The Flying Dutchmen store opened her doors in 1998, retailing top quality cannabis genetics ever since. Before opening a retail outlet, Eddie (the founder of TFD) had been working behind the scenes with this beautiful plant for many years. What started 35 years ago as research for personal knowledge blossomed into a professional, genetics wholesale business by 1984. Eddie worked directly with the Skunkman who had come over from the States, bringing with him many landrace and pure breeding strains, including the very first Skunk#1. Together they introduced many new hybrids during the early 80’s. In order to find exceptional parental stock, tens of thousands of each strain were grown out in greenhouses, the best were selected and maintained. These best plants were inbred until the strain was considered stable or pure breeding. Crosses between two stable varieties are known as F1 hybrids. Most of our stock consist of F1 hybrids with some notable exceptions. The Original Skunk#1 (a.k.a The Pure) and the Original Haze are stable true breeding hybrids, Pineapple Punch (The Real McCoy X Skunk#1) is a F1 hybrid backcrossed with its father. All our strains are organically grown under exacting conditions to ensure genetic uniformity. Germination tests are carried out every three months to ensure a germination rate of 90%-100%. Yields are subject to the conditions under which our products are grow.',\n",
              " \"Freedom of seeds are extremely dedicated to producing amazing top quality cannabis seed genetics. Working very closely with our Canadian, Spanish, and Dutch cannabis seed breeding friends they have created mind blowing high yielding connoisseur Regular, Feminized, and Auto-flowering strains for a very reasonable price. Their main goal is to deliver a reliable and trust condign seeds. And they\\\\'re doing a really good job!\",\n",
              " \"French Touch\\xa0Seeds \\xa0have a culture of healthy and easy to grow seeds. Less distractions mean focusing on the demanding job of breeding that requires your passion and focus.\\xa0French Touch \\xa0Seeds\\xa0primarily\\xa0sell feminised seeds and they had to answer to that growing demand, but they are guiding expert growers on regular seeds and conservation of their favorites strains. These are passions and practices that are now widespread among our compatriots.FTS strives to preserve old varieties and they\\\\'re adding landraces from different\\xa0corners of the globe. Starting with two strains\\xa0from the Réunion Island that are currently available - The K1 and the Mangu Carot.\",\n",
              " \"The history of G13 Labs\\xa0stretches back into the late 1980\\\\'s in the north of the United Kingdom.\\xa0The original agent set up an underground collective which made their way to Amsterdam and formed connections with various other highly experienced agents.\\xa0G13 Labs are working with a selected number of experienced agents which are operating all over the world. They have a highly proven record and they have already established their own cannabis seeds strains.Prepare for concentrated experience and quality!\\xa0\",\n",
              " \"Combining science and art, Gage Green Group offers\\xa0the finest cannabis genetics in the world!\\xa0Their work\\xa0of preserving and continuing prized cannabis lines involves rigorous tests, breeding, and documentation.\\xa0Gage Green Genetics improves upon the world\\\\'s legendary and elite cannabis phenotypes.\\xa0All hybrids undergo extensive selection trials to ensure the development of champion varieties.Gage Green Groups collection includes all the rare and authentic clone-only genetics there is.\\xa0Patients deserve access to potent connoisseur genetics. With Gage Green Genetics, you will discover your own unique champions.\",\n",
              " 'Garden of Green is focused on bringing the public Medical Cannabis seeds of the highest quality. Their aim is to obtain and breed superior selections with the highest medical qualities of THC and CBD.Garden of Green offer top quality feminized Sativa and Indica strains as well as very popular feminised autoflowering varieties. As their seeds are produced for Medical purposes, they strictly use only organic methods of farming. This includes both fertilizers and insecticides. They strive for the best genetics and are extremely confident in their products which are available at very reasonable prices.',\n",
              " 'GENEHTIK is the result of many years of hard farm work and to share and exchange genetic information and experiences with farmers and breeders, amateurs and professionals, known and unknown from different countries and continents.',\n",
              " 'Genofarm has more than 15 years breeding experience in the hemp industry.Their genetics are sourced and selected from the purest strains to ensure the best quality. They work with high end hemp experts to keep up with a knowledgeable and demanding public.To ensure high end quality, They look for well structured varieties that have special rarities and colourful polychromes. They constantly test their genetics to ensure they function in extreme conditions with high and low temperatures.Their seeds are made up from a truly composite gene pool which provides stable varieties of land race strains, pure bred plants, elite clones and hybrids.',\n",
              " \"Grand Daddy Purp Collective, Inc is the provider of Grand Daddy Purple strains of medical marijuana, as well as seeds, clones, and patient information and community services .Ken Estes is an entrepreneur and philanthropist who founded K.W. Estes Mediceuticals and Grand Daddy Purp Collective, Inc. He is CEO of K.W. Estes Mediceuticals and President of Grand Daddy Purple Collective Inc, which is a non-profit providing medical marijuana to patients. Ken took his original “Grand Daddy Purp” strain and crossed it back into itself, creating Ken\\\\'s Grand Daddy Purp\",\n",
              " \"In our crossings we use only the most vital and vigorous plants that nature provides us during our selection. Taste and potency are key factors in the development of new varieties, as are stable and uniform genetics. Our seeds are guaranteed fresh and viable. We frequently check with retailers and our distributors to ensure the quality and freshness of our product.\\xa0We at GreenLabel firmly believe cannabis should be treated as nature\\\\'s gift, and that this plant deserves better than the way that it is looked at by many nowadays.\\xa0Its healing and medicinal properties have long been ignored and underestimated, as many governments found it easier to stigmatize the herb rather than supporting and financing – unbiased – scientific research.\",\n",
              " 'The Green House Seed Company is the most successful cannabis business in the world. Winner of many international awards (34 High times Cannabis Cups, many Highlife Cups, and many more private awards in many countries), it is leader in cannabis genetics. Arjan, owner and founder, has been acclaimed The King of Cannabis. He has always been committed to preserve the best landraces and to create the best genetics in the world, making sure that the growers choose good genetics, based upon their location, logistics and needs. Their feminized seeds are guaranteed the best in the world, and we invest large amounts of time and resources developing new and innovative products for the benefit of the whole community. Check out their unique lab-tests on cannabinoids, terpens and DNA profiles for their strains!\\xa0',\n",
              " \"Hazemans Seeds began breeding in early 2000. They started just making seeds for other breeders before\\xa0they decided to open their own seed Company. They wanted to give good genetics for a good price, so everyone has the chance to grow good strains. They like old school stains - indica mostly. The name Hazeman was chosen because one of the first strain they played around with was Haze. They have been messing around with growing since the late 70\\\\'s and they\\xa0wont stop until the day they die. \\xa0\",\n",
              " \"Heavyweight Seeds were originally founded in Spain in 2008. Using only highly stable pure strains, the Heavyweight team set about producing a\\xa0mouthwatering selection\\xa0of varieties, a range with a variety to satisfy all tastes. Only released onto the European market in 2010, Heavyweight is already building a name for consistency and quality time and time again.\\xa0With an expert team dedicated to ongoing research and development, the Heavyweight ethos is simple – their driving passion is to produce\\xa0top quality genetics\\xa0and they won\\\\'t stop at nothing on their\\xa0quest for excellence!\\xa0For top quality and knockout results, look no further than Heavyweight! \\xa0\",\n",
              " 'None',\n",
              " 'Holy Smoke Seeds offer both regular marijuana seeds and female cannabis seeds from a very select pool of genetics.',\n",
              " 'Homegrown Fantaseeds was voted \\\\\"Best seed company\\\\\" in the 1998 High Times Cannabis Cup, and they have earned even\\xa06 more awards in the following years. They\\\\\\'re still on the top of the seedbanks in Holland and they\\xa0not only offer the original classic strains from the 1980\\\\\\'s like the Mango, Top 44 and the Super Crystal to name but a few, but they also have created numerous award winning hybrids based on this genepool combined with popular genetics collected in the past ten years. In 2004 Homegrown Fantaseeds introduced the Cheese strain to the world by entering and winning a Cannabis Cup for this strain. The Blue Haze ( Blueberry X Haze ) became an easy victory during the 2001 High Times Cannabis Cup, walking away with the 1st place for best Sativa strain leaving Soma\\\\\\'s NYC-Diesel far behind on a third place. They will keep on experimenting within their ever expanding genepool, and will continue to offer you the craziest seeds that can potentially grow exactly what you desire, tasty and potent buds.',\n",
              " \"Working in the former Spice of Life Seeds facilities in Switzerland 12 years ago was a major inspiration for the maestros from Horti Lab!\\xa0Back in the day it became very clear, that there are many more flavours to be discovered in the marijuana world then what is commonly used by the established Dutch and Spanish seed companies and clone growers. And the founders of Horti Lab wanted to explore all of them.\\xa0Find out what they\\\\'ve achieved so far! We can tell, when it comes to Horti Lab, quality beats quantity every day!\",\n",
              " 'Humboldt Seed Organization is a collective of growers and breeders working in the Humboldt area, producing high quality organic marijuana for dispensaries, collecting and testing seeds and clones of the best strains, researching specifically into medical strains, and breeding the best cannabis genetics California has to offer.',\n",
              " 'Jack’s Beans brings together a super group of the best know of Dutch breeders. Great yields, High THC, and pleasant aromas are the features that Jack’s Beans tend to provide to all their seeds. Working exclusively for HAZE they have created a family of strains designed to exceed the demands of the most exacting customer.',\n",
              " 'Jamaican Pride create exciting and unique cannabis seeds by carefully tinkering with classic strains and enhancing them into impressive hybrids that offer high levels of THC and a striking yield. They take pride in their work and aim to include something for everyone from Indicas and Sativas, Autoflowering & Feminised, and medicinal products for the arbiters of taste. Jamaican Pride assures freshness and quality in all of their seeds which stored in a temperature and humidity controlled environment.',\n",
              " 'In co-operation with cannabis legend John Sinclair and in celebration of the 40th anniversary of the Free John Sinclair Rally, Ceres Seeds presents the new John Sinclair Seeds!This is an homage and a celebration at the same time!',\n",
              " 'Over the past 15 years, the Joint Doctor has never exhaled, delving into a uniquely wide range of cannabis-related topics. A consultant on cannabis variety trials, his hands-on experience includes industrial hemp production as well as ganja-fueled genetic research. His writings have appeared in such publications as Cannabis Culture, the International Hemp Association Journal (Holland), and Heads Magazine. Seeking out old and new cannabis landraces and varieties, cultivation techniques, research methods and cultural practices, the Joint Doctor has led a veritable “weed odyssey” during his (still short) career of 15 years. Lowryder, the main strain the Doctor has developed, is already having a huge impact on cannabis cultivation and breeding worldwide, beyond even the Joint Doctor’s wildest dreams.',\n",
              " 'Jordan of the Islands established his name on the West Coast of Canada as the bearer of some of the best skunk phenotypes in the world. His strain God Bud a ramped up purple skunk that made people reply \\\\\"God!\\\\\" when they smelt it\\\\\\'s heavy stankness. Jordan of the Islands seeds\\\\\\' has been around over a decade. Jordan is dedicated to bringing some of the most flavourful, aromatic and potent strains\\xa0to the\\xa0market. Accept no substitutes, Jordan of the Islands is the original proprietor of the finest God Bud Phenotype.',\n",
              " 'Kalashnikov Seeds is a group of old school growers based in Kuban, close to Sochi.\\xa0\\xa0All of their strains are the result of cross-breeding AK-47 (Serious Seeds) clones with Russian, Dutch, Spanish, Eastern European and Afghan landraces.\\xa0 Kalashnikov Seeds have been breeding cannabis since 2002 and started to sell in 2013, becoming within a short time a top brand on the post-soviet union cannabis market, actively competing with many western seed banks on their own territory.\\xa0Additionally Kalashnikov Seeds have developed a range\\xa0of Express\\xa0strains. Theу are characterized by a shorter period of flowering than their feminized counterparts.\\xa0Their idea is to combine the west and east in its union of flavour and taste with northern power and endurance. It is the essence of Kalashnikov Seeds bringing unique and bright varieties from the authentic Russian manufacturer and they\\xa0are proud of the opportunity to delight growers and smokers around the world with their excellent rare genetics\\xa0',\n",
              " \"Kannabia Seeds Company is one of the pioneering seed banks in Spain. With many years experience of growing and producing the highest quality marihuana seeds, Kannabia have recently stabilised their strains to make them even better. They now have an even\\xa0larger variety in their catalogue and they\\\\'ve\\xa0also increased the number of mix packs to provide\\xa0more options to enjoy several of their strains in the same packet.\",\n",
              " 'KC brains is one of the old school cannabis seed breeders, operating from Holland since 1976.All his cannabis seeds are tested for gemination and viability on a regular basis.',\n",
              " \"Kera Seeds is a dutch seedbank that has\\xa0over 12 years of experience\\xa0in the coffeeshop branch. This is how they know which types of cannabis are popular in Dutch coffee shops. You can find all the popular dutch seeds in the\\xa0KERA CLASSIC\\xa0coffeeshop selection.\\xa0To improve their quality and assortment, they\\\\'re also collaborating with famous seedbanks in the USA.\\xa0At Venice Beach (Los Angeles, California) for example,\\xa0you’ll find\\xa0remarkable types of cannabis.\\xa0They crossed for example the White Widow with a couple of unique American types of cannabis like the Trainwreck, OG Kush and Blue Berry. You’ll find these\\xa0one of a kind crosses\\xa0in the\\xa0KERA CALIFORNIA\\xa0selection.\\xa0\",\n",
              " 'King’s bread are an established company that deliver exceptional grade and top performing hybrids seeds that are fit for a king.King’s bread are committed to preserving the vigour, and genetic diversity in their products to the purest quality, not mention bringing some of the most flavourful and aromatic strains to the market.',\n",
              " 'Kiwi Seeds guarantee top class cannabis seeds. All Kiwi Seeds are bred by themselves unlike other breeders who buy stock from different growers. Kiwi Seeds only use top genetics for CANNABIS SEED\\xa0production, sources from strains found world-wide. Every variety is tested in house for germination, viability and flower quality.',\n",
              " 'The Kush Brothers Seeds come from\\xa0Barcelona.J.M. Kush & A.M. Kush have decided\\xa0to show the world the results of years of research and breeding.\\xa0Offering to all of you a new range of flavours, smells and colors.\\xa0 Annually The Kush Brothers Seeds will offer its devotees a limited and numbered editions of seeds, representing small personal projects of our two breeders.',\n",
              " \"Kush Seeds\\xa0have been breeding for over 15 years and their\\xa0genetics have been collected from the purest strains so they can offer\\xa0genetics that are stable and far from the norm. Each one of their strains\\xa0has it’s own individual medical and psychological benefits and Kush Seeds always\\xa0take the upmost care to only release what we know is the best, which is why we are releasing them to youThey\\\\'ve been\\xa0meticulous in their production to ensure you have the best quantity and quality available.\",\n",
              " 'Lady Sativa Genetics is a breeding company based in the UK. Since 2009, they have been working with most of the prominent cannabis strains today.  All their strains are thoroughly tested prior to release to ensure “perfect strains and the correct mixture of phenotypes.” \\xa03rd Place - 2013 HIGH TIMES Cannabis Cup (Amsterdam) Seed Company Indica (KnightsBridge OG)',\n",
              " 'Little Chief Collabs is a collaboration seedbank that brings together some of the finest award-winning breeders to create new limited edition strains. If their packaging alone is anything to go by, this will be one to watch!',\n",
              " \"Loud Seeds evolved from a small group of Northern Carolina growers and breeders who\\\\'ve been working with the finest Cannabis strains over the last 20 years.Nowadays, the organization is run James Loud and Mike Seeds. James Loud is a Northern California native and has been growing and breeding cannabis for the better part of 20 years, focusing on organic growing. Over that time he has acquired a vast collection of rare cannabis genetics. He has worked with some of the finest cultivators in Northern California and Washington State on innovative growing techniques and breeding projects. Mike Seeds, a California native from the central valley, has been working in the industry for over 20 years and brings the entrepreneurial spirit to the group. Aside from focusing on cultivation projects Mike has specialized in owning and operating dispensaries across California for the last 10 years.Currently Loud Seeds is focusing on stabilizing and crossing Top California genetics to get feminized and natural unfeminized indica, sativa, and hybrids strains. Original versions of OG Kush, Chemdawg, Sour Diesel, Jack Herer, Grand Daddy Purple and Girl Scout Cookies are just a few of the rare strain that Loud Seeds is currently focusing on.\",\n",
              " 'Mandala Seeds was founded in 2004. The founders together share more than 40 years of experience in cannabis cultivation, breeding, and collecting heirloom strains. One of the founders is a biologist, who has worked professionally in horticulture and agriculture. From their life-long travels and residence in more than 20 countries a genetic repository of many landrace & rare hybrid seeds emerged and is the basis of their breeding projects.The team of Mandala Seeds has\\xa0also pioneered several unique breeding and seed production methods, whose benefits are valued by growers & breeders worldwide. Mandala strains are famous for their exceptional performance and top grade marijuana. The aim of our seed bank is to provide a consistent high level of quality genetics and seeds at a customer friendly price. Mandala Seeds is especially dedicated to preserving the health, vigor, and genetic diversity of cannabis and to breed the purest quality and potency. All seeds are from 100% organic production with strict quality control and we manage the seed bank in an ecologically responsible way.',\n",
              " 'Medical SeedS were founded in 2006 in Barcelona\\xa0with the concern to replicate and enhance a collection of genetics to create high-quality seeds. Their special\\xa0care has always been\\xa0combining and crossing varieties with the intention of achieving improved quality and tested over a long period before being marketed genetics.',\n",
              " 'Medicann have been actively breeding marijuana varieties for over 10 years now. The selection and breeding of high grade medicinal strains is at the core of their organisation, and their dedicated breeding team are constantly striving to increase potency, yield and medicinal benefits for all. \\\\\"Seed breeding and selection of the seed takes time, especially if you want to get it right\\\\\". Medicann medicinal marijuana seed breeders use both organic traditional breeding techniques and the study of biology at a molecular level to produce the best strains. However, please note that they are GM-free and as natural as an organisation can be. Further plant breeding combines an element of science, inspiration and creativity. \\xa0',\n",
              " 'The people involved in the Ministry of Cannabis project have a long and deep relationship with Cannabis. The company founders have each more than 10 years of experience in this field. Their breeders have cooperated or worked for the most famous seed companies of this industry, and they have production and test rooms in 3 different countries. Ministry of Cannabis\\\\\\' projects always follow two main lines: one is to keep the availability of the classical cannabis strains (i.e. White Widow) in female form. The other is to make available the new strains that each breeder develops during the years. Since 2008 MoC have introduced their line of autoflowering seeds, in regular and feminized form. Since january 2009 they sell only feminized seeds. \\\\\"Making the world greener is a game that we can only win together.\\\\\" - MoC',\n",
              " 'The Mr Nice Seed Bank is owned by Shantibaba, and incorporates the talents of another equally experienced breeder of exceptionally high quality, and operates with the collaboration of Howard Marks. These three individuals command a huge wealth of experience in producing cannabis strains. They have produced a large amount of the winning strains of cannabis since 1990, including such legendary strains as Northern Lights No. 5, NL5 x Haze, Super Silver Haze, White Widow, White Rhino, and White Shark.',\n",
              " 'MTG seeds is a medical cannabis genetics company that has been working with some of the biggest medical marijuana farms and dispensaries in California since 1996. ',\n",
              " 'Next Generation is a Canadian\\xa0seed company that\\xa0sprouted in 1997 and has a reputation as a\\xa0reliable source of great quality and unique genetics.\\xa0Next Generation Seeds\\xa0are continually growing, testing, and perfecting their strains. They breed with many of the best strains from the\\xa0Pacific Northwest, Canada and around the world\\xa0to reach indeed the strains of the next generation!They select only the best for their breeding program.\\xa0',\n",
              " \"Nirvana\\\\'s history can be traced way back to the end of the 1980s. At the time, Nirvana\\\\'s founder was working in Positronics, the legendary Amsterdam grow shop. It was here that he attained the knowledge and inspiration to start his own cannabis seed business. He spent years travelling, seeking out and collecting marijuana seeds from the finest strains available. Yet more years went into experimenting, growing, crossbreeding and developing new cannabis strains, from which the very best were selected for Nirvana\\\\'s range of first-rate hybrids. After applying and expanding his knowledge in a number of Amsterdam\\\\'s well known grow shops,\\xa0the time had come to offer the world the expertise he had gained and the excellent products he had developed. In 1995, Nirvana was officially founded. From its origins as a cannabis seed specialist, Nirvana has grown into an innovative business concept. Its unique and original range of carefully crafted hemp products serves to expand the usage of this extraordinary plant further than ever before.\",\n",
              " 'OO Seeds are a brand new seedbank bringing us new feminized chocolate and berry flavoured, Cheese, Skunk, Kush and autoflowering strains. Enjoy those special new strains NOW!',\n",
              " \"From the creators of Bigger Pine in the 1990´s and the most potent of potent \\\\' PR # 1\\\\' The Original Sensible Seeds are pleased to bring to the market a new range of feminized and auto/feminized marijuana strains. From their continuous travels and search around the world \\xa0OSSC collected their\\xa0own personal collection of exclusive genetics, they\\\\'re now offering you.\\xa0For those who like quality without too much agonizing, we have a range of easy to grow automatics including our bestselling Auto Purple and\\xa0 Black Domina cross Jack Herer Auto – aka Auto Black JH (AKA The Prince of Darkness) !\\xa0\",\n",
              " 'Since we started growing cannabis in the early 1980’s, it has always been the aim of Paradise Seeds\\xa0to select the very best genetics. This has resulted in a solid strain base, which is the cornerstone of work. Only selecting and crossing the most potent cannabis (marijuana) plants with the finest, sweet taste has led to the creation of the powerful connoisseur strains we offer today. Paradise Seeds\\xa0are in the privileged position of having a great test ground in Europe, where they\\xa0can test and select the best genetics the plant world has to offer.\\xa0',\n",
              " 'None',\n",
              " 'Plantformers\\xa0debuted at the 2014 Amsterdam Cannabis Cup with two strains:\\xa0Mekanika Haze\\xa0and\\xa0Mr X Kush—both favorites amongst the Amsterdam cannaseurs.\\xa0 The founders of\\xa0Plantformers\\xa0have more than 20 years experience in the cannabis business working mostly out of Amsterdam. They got their start back in the day working with\\xa0Mila, the famous Amsterdam hash queen. Breeding, for them, sprung from a desire to go through their vast seed collections, comprised largely of original land race genetics.',\n",
              " 'Originally trading as Positronic Seeds, this company was started by Wernard - a very respected Dutch grower who also opening Amsterdam’s first coffee shop \\\\\"The Mellow Yellow\\\\\", which opened in 1973. Kulu Trading bought Positronics out a few years ago and so the Seed bank name has been changed to Kulu respectively.',\n",
              " 'The Purple Caper has been growing in California for over 25 years indoors and outdoors. We are known for the best fathers in the Bay Area and Central Valley. There is an abundance of Landrace, Heirloom, and Designer Strains here in California. We collect these from the most prestigious clubs and growers in the area. We then pollinate the best of the best with our best of 50 or better pedigree fathers for world class results. We specialize in designer strains with the biggest yields and highest quality.',\n",
              " 'The aim of PYRAMID SEEDS is to distribute feminized cannabis seeds of easy cultivation and good production with the best price to professional and enthusiastic growers as well as dealers in this sector. Pyramid Seeds\\xa0offer the opportunity of working with new exquisite fragrances and notable power varieties selected by its flavor, production and quality. You will find amazing strains of each variety, its genetics, cultivation, flavors and effects.',\n",
              " 'As one of the lesser known seed banks to appear on our site, R-Kiem still have quite a limited range of cannabis seeds available on the open market. But what they have to offer is simply exceptional\\xa0and proves that this is a operation that is going places.  Though this Spanish Seed bank is still quite small, their knowledge of cannabis genetics spans decades, bringing an impressive experience\\xa0into every seed they create. All their genetics are grown and tested in their very own facilities in Spain where warm Spanish\\xa0sun adds potency and flavour to the entire set up.  If you want to experience an outstanding effect, try the R-Kiem self-named seeds which have potency and power unlike anything you’ve ever tried before. Simply browse through their selection, and see the best that R-Kiem Seeds has to offer. With innovative new ideas coming out of this seed bank all the time, you never want to be away too long. Make sure you come back to not miss their progress!',\n",
              " 'Rare Dankness was founded in 2010 after many years of growing, collecting, preserving, and experimenting with many varieties of Cannabis.   Through their global network of friends, Rare Dankness has been able to work with some of the most sought after and highly coveted genetics. RD\\\\\\'s collection of genetics spans the last three decades and represents the finest specimens of Cannabis strains in the world.   Their work is not meant to replicate the \\\\\"mothers\\\\\", but to compliment the genetics by breeding with superior males. ',\n",
              " 'Reggae Seeds is an award winning Spanish seed company, well known in Spain for flavour and potentcy. They became\\xa01st place winners in Highlife cannabis cups and many other cannabis competitions! The only bank that offers regular seeds high in CBD. All regular varieties have proved to be a high percentage of CBD. This is because they all have in common their amazing\\xa0Kalijah male.\\xa0',\n",
              " 'Reserva Privada by DNA Genetics are the Premium genetics from this dutch seedbank. Taking exclusive marijuana strains and preparing limited amounts of seeds make these very rare and unique genetics indeed. Some of the cannabis strains here, both female and regular, are available in very limited numbers, so ensure you buy them when they are available as they go FAST. Reserva Privada is a West Coast collective of breeders who until now had no place to showcase their creations. These breeders are all protected by medicinal laws within their states but still wanted to remain nameless. With the roots of DNA Genetics\\xa0being in the West Coast, they came together to help bring the world these special strains under the name RESERVE PRIVADA.\\xa0',\n",
              " \"Resin Seeds is a Spanish cannabis seed bank, founded in 2008. The founder has been active in the grow scene\\xa0of Spain since 1998, when he opened one of the first grow shops of Spain in Barcelona. Since then he has\\xa0been involved in the Spanish grow scene, participating in various grow shop projects and as speaker at grow seminars.\\xa0There are many well known breeders of the Cannabis world that were collaborating\\xa0friends and have greatly helped him to develop Resin Seeds\\\\'\\xa0strains with all kind of contributions. One of the main reasons that has pushed the start of Resin Seeds, was the\\xa0contact with medicinal cannabis users. Patients told him the different effects they felt when using different strains and provided him with their valuable feedback.\",\n",
              " \"The Ripper Seeds origins date back to early 2000. The Grow Shop industry was born and grew up on the Peninsula, and so did Ripper Seeds.During this period they selected different varieties that they\\\\'re still offering today. Their\\xa0knowledge was growing over the years, but in\\xa0mid-2011 they decided to get together and form Ripper Seeds. Since then, Ripper Seeds\\xa0strive to make each day a little better work, and offer high quality 100% feminized seeds.\\xa0\",\n",
              " 'The ROOR brand is known all around\\xa0the world for creativity and\\xa0top quality products.\\xa0The guys from Roor Seeds are a\\xa0selected team of the world’s top breeders.\\xa0ROOR SEEDS AMSTERDAM is the result of this amazing collaboration.\\xa0To keep things simple they have used two designations for ROOR Seeds Lines. The ROOR s-line is for our Sativa’s! The ROOR i-line contains our Indica’s. ',\n",
              " \"After they\\\\'ve gained years of growing experience in the Netherlands, a decision was made\\xa0to seed a new line on the market called Royal Queen Seeds. Royal Queen Seeds provides quality feminized seeds for a good price. RQS\\\\'s seeds have won many prizes over the years, including the Highlife Cup and High Times Cannabis Cup. The end result is their top priority. Good yields, a pleasant taste and an excellent development of their species is what they have to offer, although the end result will also depend on the experience and techniques of the breeder.\",\n",
              " 'A worldwide genetic pool was placed in Sagarmatha\\\\\\'s care to provide marijuana smokers and growers with fresh, original varieties of marijuana. After more than 10 years of service they have emerged as a creditable source of connoisseur quality cannabis seeds. They\\xa0will continue to provide a variety of delectable treats for the many marijuana farmers of the world. These \\\\\"magic beans\\\\\" have given Sagarmatha and friends many hours of enjoyment and entertainment. We believe Sagarmatha\\\\\\'s peaks will give our customers the highest cerebral views and physical sensations possible with marijuana.',\n",
              " 'Samsara Seeds conduct their business under the objective to select and conserve the major genetic lines of Cannabis in existence. They say that if they are lucky enough, they hope to preserve the most appreciated and popular genetics distributed in the world. They follow a very strict and careful process when producing their feminised seeds and produce feminised seeds with 99.88% assurance.\\xa0They store their cannabis seeds at a constant temperature and low humidity. Finally, their process of selection is very rigorous as well. They inspect and hand pick all the seeds to order one on one so they can ensure that they are sending their customers the most fresh seeds with the most vitality.',\n",
              " 'The breeders from Nirvana developed new strains next to the already existing ones, exclusively sold by The Sativa Seedbank.The breeders gained a knowledge of more than\\xa020 years of experimenting, crossing and stabilizing of cannabis seeds. That’s why the quality of the seeds is very high. The Sativa Seed bank is specialized in sativa strains, that means that they developed the seeds that will give a plant with the true sativa high.',\n",
              " 'Secret Valley Seeds\\xa0breed their strains to be very dependable and hardy for the growers that demand strains with heavy yield and top quality. Secret Valley has grown out a large amount of parent stock and breed with only the very best of thousands of seeds.',\n",
              " \"The Seedism Collective was officially launched during the High Times Cannabis Cup in 2007 by three friends with the same passion for Cannabis genetics, working together for numerous seed company\\\\'s as well as maintaining the organic garden of the Cannabis College in Amsterdam. During their work over the past ten years at the Cannabis College in Amsterdam they have had a chance to encounter dozens of growers and breeders.  Since 2007 those guys\\xa0offer their very first line of seeds originating from the seedism collective, which consists of a selection of female seeds, a selection of regular seeds and three selection packs combining four strains in one package. The seeds they offer today are the result of many years of research, experimentation and countless of harvests, searching for those special and unique strains you are looking for. Seedism seeds are produced in organic gardens without the aid of chemical fertilizers.\",\n",
              " 'Seedmakers picks seeds from expert and independent breeders. Many of them with years of work experience in other seed banks. Selecting, crossing and setting various varieties are only a few things that Seedmakers take care of.\\xa0Their high quality seeds, which are\\xa0all feminized, getting the best prices of the market. They are\\xa0the result of the most careful selection of parental, to cross them between the best specimens. Varieties Seedmakers offer are the result of the breeders interest in to improve varieties, result of the effort for brushing up that what is really special.',\n",
              " 'Seeds of Africa is proud to present a fresh range of authentic,\\xa0native African cannabis sativa strains. Straight from the high\\xa0mountains\\xa0and valleys of beautiful Africa, the seeds are\\xa0hand selected and freshly packed,\\xa0guaranteeing\\xa0the highest standards in\\xa0quality.\\xa0With the purest genetics, Seeds of Africa\\xa0are the perfect match for any creative cross\\xa0pollination, giving you the\\xa0freedom to create\\xa0infinite\\xa0varieties\\xa0of your own. So, have fun and take home a little piece of Africa.',\n",
              " 'Seedsman Feminized cannabis seeds are available in nine different strains featuring some original old favorites as well as some new cannabis seeds. The original Seedsman seeds offered great quality and value and Seedsman Feminized is no different in that respect. We are sure that these new feminized seeds will be every bit as popular as the standard Seedsman range, with new strains such as Power Africa, Nemesis, Mama Mia and Velvet Bud Feminized being complemented by old favorites Original Skunk Number 1 Feminized and White Widow Feminized.',\n",
              " \"Sensi Seed Bank varieties are the product of the very finest cannabis genetics. For over 20 years, the Sensi Seed Bank has been collecting, preserving and interbreeding powerful, exotic and interesting strains of cannabis from every corner of the globe. As a result, the Sensi Seed collection represents the most complete selection of important marihuana strains available. Sensi\\\\'s cannabis seeds have been awarded more First Prizes and Cannabis Cups than those of any other cannabis seed bank.\",\n",
              " 'The breeder behind Serious Seeds, Simon, is responsible for the genetics sold by the seed bank. He studied biology at one of the universities in Amsterdam. Simon discovered the merits of smoking pure marihuana after his studies whilst traveling through Africa in 1986.From that moment on he started collecting seeds and back in Holland he immediately started growing them out for personal pleasure crossing what he thought were the best plants seemed a natural follow up. Contact with other growers gave him access to different strains from which he also selected the best plants. The genetic background of this material was not always clearly known.Simon was teaching biology at a high school when Alan Dronkers asked him to come and work at Sensi Seeds. It was a serious career change but one he has never regretted. In 1994 after a period working for Sensi Seeds he decided to leave and start his own seed company with some American cannabis refugees. That year AK-47 and Chronic both won prices at the Cannabis Cup in Amsterdam. After the show the initial seed company ended and in 1995 Serious Seeds was founded.',\n",
              " 'Seven Dwarfs\\xa0believes in both quality and quantity, there is no point in one without the other. This focus on quality and yield make The 7 Dwarfs a perfect choice for the commercial cultivator and ideally suited to growers needing to make maximum use of a small space.\\xa0All of the 7\\xa0feminized strains share similar growth characteristics so can be cultivated simultaneously. With a strain for everyday of the week you;ll never be bored. Maybe the sweet smell of Titan on a Tuesday takes your fancy or the mind numbing Cyclops calls out from the stash box on a Saturday.\\xa0 Together The 7 Giant Dwarfs will satisfy the palate of the most discerning connoisseur.\\xa0',\n",
              " 'Short Stuff seed bank is the coming together of a like-minded group of seed breeders and growing enthusiasts who have been working with auto flowering seeds for the last 3 years. Their\\xa0breeders have produced a range of auto flowering seeds, which match the offerings of the bigger seed banks but at much lower prices.',\n",
              " 'SickMeds Seeds passion is to share with the rest of the canna community genetics that either are no longer available, to those that are clone only that everyone wants to have, to strains developed with medicinal attributes in mind, for recreational or commercial growers, or those seeking strains developed with consideration to particular ailments.Sick Meds are\\xa0working closely with canna labs and research in order to gain further appreciation of cannabinoid qualities and properties of their strains. This allows them to develop strains with knowing what each parent will contribute in terms of cannabinoid percentages and whether these match when breeding.\\xa0',\n",
              " \"For years, Simply Female Seeds stayed underground and bred marijuana strains in U.K. After some time, they transferred to Holland and there went on full scale operations that included putting their strains on sale. As of this writing, they have six strains being sold.\\xa0They offer only feminized seeds and though coming from different cross-breeds, their hybrid strains have both sativa and indica genetics. Simply Female Seeds is known to produce high THC cannabis plants and some of their weed varieties are Dragon\\\\'s Breath, Highland Sunshine, Mega Lemonista, and Spine Apple.Although they have no website as of now, Simply Female Seeds reviews are quite encouraging. We love to carry their seeds and this is a strong testament to the quality of their genetics. Those who want to buy marijuana seeds of Simply Female Seeds are exactly at the right address!\\xa0\",\n",
              " 'Sin City Seeds is a dedicated group of skilled medical marijuana breeders who strive to produce one-of-a-kind, high-yielding DANK genetics and spread them to the masses.Keeping a compassionate outlook for patients and caregivers is always our number one priority. Our strain releases are FULLY TESTED, and nothing less than 100% LOVE and DEDICATION goes into every pack of our seeds – so you can be sure of a successful harvest.\\xa0We practice TRUE BREEDING techniques, with meticulous male selection and testing, for optimal results to bring you the best product possible.While Feminized seeds may be the trend right now, here at SinCitySeeds, we feel that the most effective way to truly express the best qualities in both parents is to use natural breeding techniques. This ensures the most stable results in all of our breeding projects. Please take a look at our world-class strains and see the DANKNESS for yourself!\\xa0',\n",
              " 'There are many things to say about Soma Seeds, however, the best way to describe this seedbank is to show you what its founder has to say about his experience with cannabis:\\\\\"In 1967, I was working at IBM as a mail clerk in the office products division on Madison Avenue in NYC. Another employee helped me get some Marijuana rolled up in joints. Right after work, I walked down to the East River dressed in my three-piece suit and tie and lit up my first joint. I instantly fell in love with the calm feeling it brought to my whole being. I was 18 years old. In the 45 years that passed since my first joint I have \\xa0found cannabis to be one of the most positive forces in my life. How it started I started growing cannabis in 1971 in southern Vermont. I owned and ran a vegetarian restaurant and bakery. As I became more aware of my diet, a deeper knowledge of ecology and its effect on the enviroment came with the territory. This naturally led to my growing cannabis in an organic eco-friendly manner. From that point on, I have been finding different ways to make my thumbs greener. Through the years This magnificant plant species has helped teach me the art of having and taking care of houseplants, the art of murturing, and the art of photography to name but a few. Far from being a demotivator, marijuana has become interwoven with many of my interests, and its influence has opened my mind to explore many I might have never other wise pursued. Although marijuana laws are never fair around the planet, I refuse to give up my right to have my sacrament and medicine constantly near me in the form of clothing, food, plants, paper and smoke. In this way I do my part to overgrow the whole darn place. more about soma seeds\\\\\"',\n",
              " '***SHIPPING AVAILABLE FROM WITHIN AUSTRALIA FOR SOUTHERN STAR SEEDS ONLY (domestic mail = no customs)****TO QUALIFY FOR DOMESTIC SHIPMENT IN AUSTRALIA, YOUR ORDER CAN ONLY CONTAIN SOUTHERN STAR SEEDS!**YOU WILL ALSO RECEIVE YOUR FREE SEEDS DIRECTLY FROM SOUTHERN STAR SEEDS ACCORDING TO THEIR STOCK ALLOCATION*Southern Star Seeds is the result of many years of breeding and constant testing. For the last 25 years, it has been a passion that shows no sign of letting up anytime soon. The desire to create and improve Cannabis genetics and produce exceptional varieties is the biggest motivator. The commitment to ensuring the highest quality work is done during breeding is reflected best in the strains desirable attributes and their suitability for many ailments. Southern Star Seeds loves Cannabis. Cannabis truly is a remarkable plant with a wealth of uses that mankind is only now starting to realize. All stains are created to ensure genetic uniformity. Viability tests are carried out regularly to ensure an estimated germination rate of 90%-100%. Yields of each strain available are subject to the conditions under which they are grown, but a focus has been made on developing high yielding genetic varieties. ***SHIPPING AVAILABLE FROM WITHIN AUSTRALIA FOR SOUTHERN STAR SEEDS ONLY (domestic mail = no customs)***',\n",
              " \"Spliff Seeds\\xa0cultivating quality cannabis seeds since 1995. Spliff Seeds is created for growers, collectionists and medicinal\\xa0marijuana\\xa0users that need the highest quality cannabis seeds. The Bronze (B) and Silver (S) Line holds Spliff Seeds\\\\'\\xa0regular cannabis seeds collection. \\xa0And the famed Gold Line (G) consist of their feminized seeds collection.\",\n",
              " 'Strain Hunters is a series of documentaries aimed at informing the general public about the quest for the preservation of the cannabis plant in the form of particularly vulnerable landraces originating in the poorest areas of the planet. The sole intent of Strain Hunters is to identify, locate and retrieve cannabis landraces that have not yet been studied, in order to give scientists and doctors the possibility to further enhance knowledge of the cannabis plant in the medicinal field. Many previously unknown cannabinoid profiles are contained in cannabis landraces originating from areas where there is no possibility of scientific research. One day these plants could be helpful in developing better medications for the sick and the suffering. Strainhunters feel it is their duty to preserve as many cannabis landraces in their genetic database, and by breeding them into other well-studied medicinal strains for the sole purpose of scientific research.',\n",
              " 'Cannabis comes in many strains. Each one has its own unique chemical profile and that profile determines how you will be affected both physically and emotionally.\\xa0\\xa0Cannabis generally\\xa0\\xa0produces no more than 6% CBD\\xa0, with a few strains getting up to\\xa0around 8%-12% maximum (but they are also\\xa0psychoactive because of high THC levels).\\xa0SuperCBDx is much more than just a high CBD, low THC (non psycho active) ratio genetics. Ratios are only the tip of the iceberg. How much CBD, THC and other compounds are the plant producing? Only scientific laboratory testing proves what any plant can do. “Show me the test results!!” should be standard practice for medical cannabis genetics!\\xa0 This is where SuperCBDx leads the field.\\xa0For the same effort as any other strain SuperCBDx produces much more of what you want/need, in less time than any other plant yet discovered.',\n",
              " 'Super Strains is an all new seedbank determined to bring some of the best cannabis genetics to the collectors market place. The first strain they are bringing to market is the world famous and ultra strong Original Amnesia Female Cannabis Seeds. Original Amnesia is from the original amnesia breeder who has feminized this world famous strain which is well renowned for the famous amnesia haze cross and other crosses. These all female cannabis seeds are sure to be a big hit in the growing cannabis seeds collectors market and will be a welcome addition to those wanting to bring some classic genetic material to their own hybrids and breeding programmes.',\n",
              " 'Sweet Seeds\\xa0is a modern seed bank specializing in the recruitment and retention of new lines feminized cannabis high quality, including varieties auto flowering. All varieties of Sweet Seeds are especially sweet, aromatic and palatable. Their genetics are fully adapted for both the requirements of the crop outside and inside with artificial lights. Easy to grow varieties, productive and very aromatic. Sweet Seeds Seeds are selected one by one manually, after a thorough inspection only the best seeds are packed. The conservation of seeds is carried out under conditions of low humidity and low temperature, thus ensuring the best preservation of their viability, as our seeds are packed in the test have passed the germination viability of 95%. Seeds Sweet Seeds have a femininity that is around 99.7%.',\n",
              " 'Taylor Genetics Seeds are Top quality feminized cannabis seeds produced by professionals with over 20 years of experience in the market. New Canadian marijuana seed bank bringing the finest cannabis Genetics and creating stable breeds of cannabis seeds from Canada.\\xa0',\n",
              " 'Subcool Seeds was formed in 2001 by a small group dedicated medical growers who had grown tired of false claims and made up marketing that are still common to this day in the seed businessThey\\xa0are passionate about Cannabis and its Culture. Working closely with both growers, breeders and patients they have developed 30+\\xa0unique strains each very different from the other and designed specifically for certain conditions. Subcool strains are used to ease the suffering of people worldwide from: Pain, Nausea, Tremors, Nerve Pain, Anxiety and even Social Disorders. They do not believe in short cuts the rest of the industry is taking like Feminizing seeds or creating Auto Flowering strains by combining low potency ruderalis with common hybrids. Instead it has taken them up to a decade just to perfect their flagship high THC-V strain Jack the Ripper, or their\\xa0Cup winning strain Vortex, or more medical strains like Pennywise or the ultra high CBD strain Deadlights. Their medicinal strains are very fragrant and have heavy resin producing traits and valued by many breeders for the unique smell and taste. Their strains are sought after worldwide in both flower and extract form.',\n",
              " 'T.H.Seeds was established in 1993, making it one of the oldest seed companies in Holland. It began in the C.I.A. (Cannabis In Amsterdam), which was a Cannabis information center, that was a\\xa0world renowned seed shop,the first hemp store in Europe and, according to Robert C. Clarke (author of: Marijuana Botany, HASHISH!), \\\\\"The epicenter of the Cannabis universe.\\\\\" T.H.Seeds quickly gained an excellent reputation among the experienced growers who purchased T.H.Seeds. Most comment on how pleased they are with the consistency and quality of the T.H.Seeds genetics. This positive feedback from the growers themselves is the solid foundation on which T.H.Seeds has been built.\\xa0',\n",
              " 'Top Tao Seeds started supplying seeds to the cannabis market\\xa0back in 2000. Starting small was always the best way to go for this\\xa0medically focussed supplier from the Czech Republic, so that they could\\xa0show\\xa0their skills and create the strains that really matter, while developing a name that means something. For a truly inspirational hybrid, check out their CBD\\xa0Haze Auto for powerful, effective seeds that are easy to\\xa0grow. Or when you want lots of high quality purp in double\\xa0quick time, opt for the award winning Tao Purple seeds that\\xa0will leave you amazed.\\xa0',\n",
              " 'Tropical Seeds was born thanks to their founder, Maxi’s idea of creating a project in which a large number of landraces would be grown, studied and bred.This hard work was done in some large facilities under something very close to a Tropical climate. Some big green houses in the Canary Islands were packed with incredible genetics from different parts of the Globe, containing pure and psychedelic rich cannabis lines.After a number of years trying iron out some undesirable traits from these unique lines, the dream was eventually realised and a number of strains were created that were perfect to release to market, under the Tropical Seeds brand.Tropical Seeds work with a clear philosophy in mind; creating new strain options with more strength, vigour and beauty than anything else available on the market. Their research has led them to conclude that growers are becoming bored of the famous strains that have become overbred and dull. Instead, Tropical Seeds want to introduce something new and exciting as often as possible.Such is the desire from Tropical Seeds to direct their focus onto new projects, the company have actually discontinued some of their older strains. This is a bold move but one of that has paid off, since the popularity of their more recent strains has won them plenty of plaudits within the industry.There are a number of strain in the Tropical Seeds library that have gained notoriety, in particular Smooth Smoke, an indica strain with a strong structure and dense resin production and Ciskei Regular, a South African strain that can grow perfectly both indoors and outdoors.',\n",
              " 'Having worked with companies such as Reservoir Seeds, H3ad Seeds and more recently Connoisseur Genetics the decision was now made\\xa0to launch True Canna Genetics as an outlet for all of their breeding projects.',\n",
              " \"Ultra Genetics is a British born company with a great passion for their work and a goal that\\xa0is to produce high quality seeds for the international medicinal community. UG produce their seeds under legal conditions outside of the UK from genetics they have collected or been gifted over the years from close friends in the industry and they will never release anything unless its been properly tested.\\xa0One of their many company aim\\\\'s is to help give medicinal marijuana a bright successful future. \",\n",
              " 'VIP Seeds\\xa0has been created in response to the demands\\xa0to provide top quality cannabis seeds and more affordable prices.They merged the best of the European cannabis\\xa0genetics with experience from all over the\\xa0world, which established after many tests over time giving perfect results in all seeds.You get a guarantee of quality and excellent results for your plants when you purchase seeds from the VIP Crew.VIP SEEDS - VERY IMPORTANT PLANT!',\n",
              " \"Top Quality, Low Prices, 100% Feminized - What more do you need? Like most success stories, Vision Seeds started small and grew as they gained experience. When they first opened the doors of their Dutch cannabis seed shop in 1995, they were a simple reseller with one big difference: Vision Seeds always tried before they sold to ensure top quality. This little step (that many others skip) is what Vision Seeds is all about. After evaluating hundreds of strains, this high-minded crew learned every facet of the cannabis seed trade including everything from basic genetics to the best overall smoke experience. Plus, they understand that the average stoner isn\\\\'t made of money. The Vision Seeds mantra is quality seeds at a fair price every single time! What started with a dream has culminated into the best collection of proven, 100% feminized seeds that today\\\\'s market has to offer. If you\\\\'re looking for a strain with a successful track record and a 5-star standing with every major cannabis publication, go with authentic Vision Seeds! The Vision Seeds brand includes an impressive array of traditional feminized seeds as well as the most advanced, fully autoflowering strains. And, you\\\\'ll instantly recognize each and every name in this stunning collection. \\xa0\",\n",
              " 'Part of Sensi Seed’s infamous portfolio, White Label Seeds – as their name suggests – consist of a large range of cannabis seeds that are predominately white-based plants producing huge flowers, saturated in THC crystals.',\n",
              " \"An institution with people who are lovers of nature and science, a multicultural group immersed in various cultures and made up of expert breeders, biologists, chemists, pharmacists, and geneticists... From different ends of the world, these professionals make their contribution to the advancement of science not only for cannabis as a medicine, but also with innovations on its cultivation, genetics, feeding and care. World of Seeds\\\\'\\xa0guide is the passion we feel for this wonderful, controversial, demonized plant species. World of Seeds was founded to contribute to society with our particular way of understanding the judicious use of cannabis as a medicine, emphasizing its already existent use as anti-emetic and analgesic in palliative medicine and its possible applications in the future as a powerful antioxidant and antispasmodic agent. We mention also the possible risks that could occur in recreational uses and abuses of the plant.\",\n",
              " \"Zambeza Seeds only offers the best feminized and autoflowering cannabis seeds. Their experience is based on years spent in Europe on developing, testing and growing a wide range of cannabis strains. This knowledge and many years of practice made it possible to offer the highest quality autoflowering and feminised cannabis seeds at affordable prices.It doesn\\\\'t mather which cannabis strain you choose, you can be certain that you will not have to deal with male plants because all their cannabis seeds are 100% feminised, including the autoflowering varieties. Growing from feminised cannabis seeds saves your time and effort, so that you can fully concentrate on achieving the highest yield and biggest tastiest buds possible.\"]"
            ]
          },
          "metadata": {
            "tags": []
          },
          "execution_count": 13
        }
      ]
    },
    {
      "cell_type": "code",
      "metadata": {
        "colab": {
          "base_uri": "https://localhost:8080/"
        },
        "id": "bCjVe5SuBnB-",
        "outputId": "44ca001f-cd1a-46b5-f787-5cfffe6eaf04"
      },
      "source": [
        "# Getting the length of the list to cross check\n",
        "len(newList)"
      ],
      "execution_count": 15,
      "outputs": [
        {
          "output_type": "execute_result",
          "data": {
            "text/plain": [
              "145"
            ]
          },
          "metadata": {
            "tags": []
          },
          "execution_count": 15
        }
      ]
    },
    {
      "cell_type": "code",
      "metadata": {
        "id": "FXcg7ciFBtFc"
      },
      "source": [
        "# Creating a new dataframe with content column\n",
        "data_frame[\"contents\"] = newList"
      ],
      "execution_count": 16,
      "outputs": []
    },
    {
      "cell_type": "code",
      "metadata": {
        "colab": {
          "base_uri": "https://localhost:8080/",
          "height": 419
        },
        "id": "Gyic8VuSB0wd",
        "outputId": "be4b148b-8010-45a2-ab33-a13dae2c210f"
      },
      "source": [
        "# Presenting the dataframe\n",
        "data_frame"
      ],
      "execution_count": 17,
      "outputs": [
        {
          "output_type": "execute_result",
          "data": {
            "text/html": [
              "<div>\n",
              "<style scoped>\n",
              "    .dataframe tbody tr th:only-of-type {\n",
              "        vertical-align: middle;\n",
              "    }\n",
              "\n",
              "    .dataframe tbody tr th {\n",
              "        vertical-align: top;\n",
              "    }\n",
              "\n",
              "    .dataframe thead th {\n",
              "        text-align: right;\n",
              "    }\n",
              "</style>\n",
              "<table border=\"1\" class=\"dataframe\">\n",
              "  <thead>\n",
              "    <tr style=\"text-align: right;\">\n",
              "      <th></th>\n",
              "      <th>Index</th>\n",
              "      <th>contents</th>\n",
              "    </tr>\n",
              "  </thead>\n",
              "  <tbody>\n",
              "    <tr>\n",
              "      <th>0</th>\n",
              "      <td>https://cannabisseedsforsale.com/brands/710-ge...</td>\n",
              "      <td>710 Genetics is the best new BOUTIQUE SEED BAN...</td>\n",
              "    </tr>\n",
              "    <tr>\n",
              "      <th>1</th>\n",
              "      <td>https://cannabisseedsforsale.com/brands/ace-seeds</td>\n",
              "      <td>ACE Seeds are a group of Spanish breeders who ...</td>\n",
              "    </tr>\n",
              "    <tr>\n",
              "      <th>2</th>\n",
              "      <td>https://cannabisseedsforsale.com/brands/advanc...</td>\n",
              "      <td>Advanced Seeds produces all its cannabis seeds...</td>\n",
              "    </tr>\n",
              "    <tr>\n",
              "      <th>3</th>\n",
              "      <td>https://cannabisseedsforsale.com/brands/allsta...</td>\n",
              "      <td>Allstar Genetics are a small, independent grou...</td>\n",
              "    </tr>\n",
              "    <tr>\n",
              "      <th>4</th>\n",
              "      <td>https://cannabisseedsforsale.com/brands/alphak...</td>\n",
              "      <td>Alphakronik Genes are one of the top medical g...</td>\n",
              "    </tr>\n",
              "    <tr>\n",
              "      <th>...</th>\n",
              "      <td>...</td>\n",
              "      <td>...</td>\n",
              "    </tr>\n",
              "    <tr>\n",
              "      <th>140</th>\n",
              "      <td>https://cannabisseedsforsale.com/brands/vip-seeds</td>\n",
              "      <td>VIP Seeds has been created in response to the ...</td>\n",
              "    </tr>\n",
              "    <tr>\n",
              "      <th>141</th>\n",
              "      <td>https://cannabisseedsforsale.com/brands/vision...</td>\n",
              "      <td>Top Quality, Low Prices, 100% Feminized - What...</td>\n",
              "    </tr>\n",
              "    <tr>\n",
              "      <th>142</th>\n",
              "      <td>https://cannabisseedsforsale.com/brands/white-...</td>\n",
              "      <td>Part of Sensi Seed’s infamous portfolio, White...</td>\n",
              "    </tr>\n",
              "    <tr>\n",
              "      <th>143</th>\n",
              "      <td>https://cannabisseedsforsale.com/brands/world-...</td>\n",
              "      <td>An institution with people who are lovers of n...</td>\n",
              "    </tr>\n",
              "    <tr>\n",
              "      <th>144</th>\n",
              "      <td>https://cannabisseedsforsale.com/brands/zambez...</td>\n",
              "      <td>Zambeza Seeds only offers the best feminized a...</td>\n",
              "    </tr>\n",
              "  </tbody>\n",
              "</table>\n",
              "<p>145 rows × 2 columns</p>\n",
              "</div>"
            ],
            "text/plain": [
              "                                                 Index                                           contents\n",
              "0    https://cannabisseedsforsale.com/brands/710-ge...  710 Genetics is the best new BOUTIQUE SEED BAN...\n",
              "1    https://cannabisseedsforsale.com/brands/ace-seeds  ACE Seeds are a group of Spanish breeders who ...\n",
              "2    https://cannabisseedsforsale.com/brands/advanc...  Advanced Seeds produces all its cannabis seeds...\n",
              "3    https://cannabisseedsforsale.com/brands/allsta...  Allstar Genetics are a small, independent grou...\n",
              "4    https://cannabisseedsforsale.com/brands/alphak...  Alphakronik Genes are one of the top medical g...\n",
              "..                                                 ...                                                ...\n",
              "140  https://cannabisseedsforsale.com/brands/vip-seeds  VIP Seeds has been created in response to the ...\n",
              "141  https://cannabisseedsforsale.com/brands/vision...  Top Quality, Low Prices, 100% Feminized - What...\n",
              "142  https://cannabisseedsforsale.com/brands/white-...  Part of Sensi Seed’s infamous portfolio, White...\n",
              "143  https://cannabisseedsforsale.com/brands/world-...  An institution with people who are lovers of n...\n",
              "144  https://cannabisseedsforsale.com/brands/zambez...  Zambeza Seeds only offers the best feminized a...\n",
              "\n",
              "[145 rows x 2 columns]"
            ]
          },
          "metadata": {
            "tags": []
          },
          "execution_count": 17
        }
      ]
    },
    {
      "cell_type": "code",
      "metadata": {
        "id": "rZhbbBbLCLZn"
      },
      "source": [
        "# Downloading the data frame into csv file\n",
        "data_frame.to_csv(\"QuickFireDigital-cannabies.csv\")"
      ],
      "execution_count": 19,
      "outputs": []
    }
  ]
}